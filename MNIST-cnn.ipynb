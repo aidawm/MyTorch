{
 "cells": [
  {
   "cell_type": "markdown",
   "metadata": {
    "id": "jkecIaBZcZeD"
   },
   "source": [
    "### Import Libraries"
   ]
  },
  {
   "cell_type": "code",
   "metadata": {
    "id": "tsIWKSxQcZeG",
    "executionInfo": {
     "status": "ok",
     "timestamp": 1715709104950,
     "user_tz": -210,
     "elapsed": 380,
     "user": {
      "displayName": "Alireza Jabbari",
      "userId": "09914447981026378299"
     }
    },
    "ExecuteTime": {
     "end_time": "2024-05-16T11:59:02.003725Z",
     "start_time": "2024-05-16T11:59:01.202033Z"
    }
   },
   "source": [
    "\"If it does not work use code below while running this notebook in this dir.\"\n",
    "\n",
    "import matplotlib.pyplot as plt\n",
    "\n",
    "from mytorch import Tensor, Model\n",
    "from mytorch import activation as active_func\n",
    "from mytorch import layer as nn\n",
    "from mytorch import loss as loss_func\n",
    "from mytorch import optimizer as optim\n",
    "from mytorch.util import DataLoader\n",
    "from mytorch.util import flatten"
   ],
   "outputs": [],
   "execution_count": 1
  },
  {
   "cell_type": "markdown",
   "metadata": {
    "id": "EjJUJQuLcZeI"
   },
   "source": [
    "### Load MNIST"
   ]
  },
  {
   "cell_type": "code",
   "metadata": {
    "colab": {
     "base_uri": "https://localhost:8080/"
    },
    "id": "Vw0ftH0wcZeJ",
    "executionInfo": {
     "status": "ok",
     "timestamp": 1715709150602,
     "user_tz": -210,
     "elapsed": 42266,
     "user": {
      "displayName": "Alireza Jabbari",
      "userId": "09914447981026378299"
     }
    },
    "outputId": "c6970038-6aa6-46a1-aa24-77d026c8ca3e",
    "ExecuteTime": {
     "end_time": "2024-05-16T11:59:07.399668Z",
     "start_time": "2024-05-16T11:59:02.005743Z"
    }
   },
   "source": [
    "\"\"\"\n",
    "load data set with given data loader.\n",
    "you have 10000 train data, 1000 for each number, remember to shuffle training data.\n",
    "you have 1000 test data, 100 for each number.\n",
    "\n",
    "loaded data is a list of (img, label)\n",
    "type of img is Tensor.\n",
    "\n",
    "TODO: you have to get this list and create batches for training.\n",
    "you can also apply this changes later in the Training part for convenience.\n",
    "\"\"\"\n",
    "data_loader = DataLoader(train_addr='MNIST/train', test_addr='MNIST/test')\n",
    "data_loader.load()\n",
    "\"you can see how data is loaded\"\n",
    "print(data_loader.getTrain()[0][0].shape)\n",
    "print(data_loader.getTrain()[0][1].shape)"
   ],
   "outputs": [
    {
     "name": "stdout",
     "output_type": "stream",
     "text": [
      "loading train...\n",
      "loading test...\n",
      "processing...\n",
      "(500, 28, 28)\n",
      "(500,)\n"
     ]
    }
   ],
   "execution_count": 2
  },
  {
   "cell_type": "markdown",
   "metadata": {
    "id": "4x29P6ObcZeJ"
   },
   "source": [
    "### Define and Create your Model"
   ]
  },
  {
   "cell_type": "code",
   "metadata": {
    "id": "_VPX271lcZeK",
    "colab": {
     "base_uri": "https://localhost:8080/"
    },
    "executionInfo": {
     "status": "ok",
     "timestamp": 1715709526689,
     "user_tz": -210,
     "elapsed": 340,
     "user": {
      "displayName": "Alireza Jabbari",
      "userId": "09914447981026378299"
     }
    },
    "outputId": "ae14a6a3-2efb-409d-fe03-2d7a43e0e494",
    "ExecuteTime": {
     "end_time": "2024-05-16T11:59:07.408419Z",
     "start_time": "2024-05-16T11:59:07.401763Z"
    }
   },
   "source": [
    "class MyModel(Model):\n",
    "    def __init__(self):\n",
    "        \"TODO: define your layers. order is important\"\n",
    "        self.l1 = nn.conv2d.Conv2d(1, 2, kernel_size=(3, 3))\n",
    "        self.pool1 = nn.max_pool2d.MaxPool2d(2, 2, kernel_size=(3, 3), stride=(2, 2))\n",
    "        self.l2 = nn.conv2d.Conv2d(2, 3, kernel_size=(3, 3))\n",
    "        self.pool2 = nn.max_pool2d.MaxPool2d(3, 3, kernel_size=(3, 3), stride=(2, 2))\n",
    "        self.fc1 = nn.Linear(7 * 7 * 3, 10)\n",
    "\n",
    "    def forward(self, x: Tensor) -> Tensor:\n",
    "        \"TODO: define forward pass\"\n",
    "        x = self.l1.forward(x)\n",
    "        x = self.pool1.forward(x)\n",
    "        x = self.l2.forward(x)\n",
    "        x = self.pool2.forward(x)\n",
    "        x = flatten(x)\n",
    "        x = self.fc1.forward(x)\n",
    "        x = active_func.softmax(x)\n",
    "        return x\n",
    "\n",
    "\n",
    "model = MyModel()"
   ],
   "outputs": [],
   "execution_count": 3
  },
  {
   "cell_type": "markdown",
   "metadata": {
    "id": "KXROFVp0cZeK"
   },
   "source": "### Choose a Loss Function"
  },
  {
   "cell_type": "code",
   "metadata": {
    "id": "X5SHVccdcZeK",
    "executionInfo": {
     "status": "ok",
     "timestamp": 1715709530493,
     "user_tz": -210,
     "elapsed": 340,
     "user": {
      "displayName": "Alireza Jabbari",
      "userId": "09914447981026378299"
     }
    },
    "ExecuteTime": {
     "end_time": "2024-05-16T11:59:07.412628Z",
     "start_time": "2024-05-16T11:59:07.410009Z"
    }
   },
   "source": [
    "\"TODO: choose a proper loss function\"\n",
    "criterion = loss_func.CategoricalCrossEntropy"
   ],
   "outputs": [],
   "execution_count": 4
  },
  {
   "cell_type": "markdown",
   "metadata": {
    "id": "-yFwplUDcZeK"
   },
   "source": [
    "### Choose an Optimizer"
   ]
  },
  {
   "cell_type": "code",
   "metadata": {
    "id": "6rVDN_lGcZeK",
    "executionInfo": {
     "status": "ok",
     "timestamp": 1715709544127,
     "user_tz": -210,
     "elapsed": 688,
     "user": {
      "displayName": "Alireza Jabbari",
      "userId": "09914447981026378299"
     }
    },
    "ExecuteTime": {
     "end_time": "2024-05-16T11:59:07.418884Z",
     "start_time": "2024-05-16T11:59:07.415591Z"
    }
   },
   "source": [
    "\"TODO: choose a proper optimizer\"\n",
    "optimizer = optim.SGD(model.parameters(), 0.003)"
   ],
   "outputs": [],
   "execution_count": 5
  },
  {
   "metadata": {
    "ExecuteTime": {
     "end_time": "2024-05-16T11:59:07.426445Z",
     "start_time": "2024-05-16T11:59:07.421212Z"
    }
   },
   "cell_type": "code",
   "source": [
    "def one_hot_encode_array(array):\n",
    "    # Index this with the input array to get the one-hot encoded array\n",
    "    one_hot = np.zeros((array.shape[0], 10))\n",
    "    one_hot[np.arange(array.shape[0]), array.data] = 1\n",
    "    return Tensor(one_hot)"
   ],
   "outputs": [],
   "execution_count": 6
  },
  {
   "cell_type": "markdown",
   "metadata": {
    "id": "dZehTr4_cZeL"
   },
   "source": [
    "### Training Model"
   ]
  },
  {
   "cell_type": "code",
   "metadata": {
    "id": "wVfyMh43cZeL",
    "executionInfo": {
     "status": "ok",
     "timestamp": 1715709787245,
     "user_tz": -210,
     "elapsed": 240381,
     "user": {
      "displayName": "Alireza Jabbari",
      "userId": "09914447981026378299"
     }
    },
    "ExecuteTime": {
     "end_time": "2024-05-16T12:01:36.793877Z",
     "start_time": "2024-05-16T11:59:07.427784Z"
    }
   },
   "source": [
    "\"TODO: define number of epoch and train batches of data on your model. also test each epoch.\"\n",
    "import numpy as np\n",
    "\n",
    "EPOCH = 20\n",
    "\n",
    "train_acc = []\n",
    "test_acc = []\n",
    "best_train_acc = 0.0\n",
    "best_test_acc = 0.0\n",
    "\n",
    "for i in range(EPOCH):\n",
    "    print(\"EPOCH {}/{}\".format(i + 1, EPOCH))\n",
    "\n",
    "    trn_corr = 0\n",
    "    tst_corr = 0\n",
    "\n",
    "    \"TODO: train over your defined batches and save train accuracy for each epoch.\"\n",
    "    for j, _data in enumerate(data_loader.getTrain()):\n",
    "        x_train, y_train = _data\n",
    "        d = Tensor(x_train.data.reshape((-1, 1, 28, 28)) / 255.0)\n",
    "        y = one_hot_encode_array(y_train)\n",
    "        preds = model.forward(d)\n",
    "        optimizer.zero_grad()\n",
    "        loss = criterion(preds, y)\n",
    "        loss.backward()\n",
    "        optimizer.step()\n",
    "\n",
    "        predicted = np.argmax(preds.data, 1)\n",
    "        trn_corr += np.sum(predicted == y_train.data)\n",
    "\n",
    "    acc = (trn_corr / 10000)\n",
    "    train_acc.append(acc)\n",
    "    \"TODO: test your model after each training and save test accuracy for each epoch.\"\n",
    "\n",
    "    for x_test, y_test in data_loader.getTest():\n",
    "        d = Tensor(x_test.data.reshape((-1, 1, 28, 28)) / 255.)\n",
    "        y = one_hot_encode_array(y_test)\n",
    "        preds = model.forward(d)\n",
    "        predicted = np.argmax(preds.data, 1)\n",
    "        tst_corr += np.sum(predicted == y_test.data)\n",
    "\n",
    "    acc = (tst_corr / 1000)\n",
    "    test_acc.append(acc)\n",
    "\n",
    "best_train_acc = max(train_acc)\n",
    "best_test_acc = max(test_acc)"
   ],
   "outputs": [
    {
     "name": "stdout",
     "output_type": "stream",
     "text": [
      "EPOCH 1/20\n",
      "EPOCH 2/20\n",
      "EPOCH 3/20\n",
      "EPOCH 4/20\n",
      "EPOCH 5/20\n",
      "EPOCH 6/20\n",
      "EPOCH 7/20\n",
      "EPOCH 8/20\n",
      "EPOCH 9/20\n",
      "EPOCH 10/20\n",
      "EPOCH 11/20\n",
      "EPOCH 12/20\n",
      "EPOCH 13/20\n",
      "EPOCH 14/20\n",
      "EPOCH 15/20\n",
      "EPOCH 16/20\n",
      "EPOCH 17/20\n",
      "EPOCH 18/20\n",
      "EPOCH 19/20\n",
      "EPOCH 20/20\n"
     ]
    }
   ],
   "execution_count": 7
  },
  {
   "cell_type": "markdown",
   "metadata": {
    "id": "a_bKl6gycZeL"
   },
   "source": [
    "### Evaluate Model Performance"
   ]
  },
  {
   "metadata": {
    "ExecuteTime": {
     "end_time": "2024-05-16T12:01:36.951799Z",
     "start_time": "2024-05-16T12:01:36.796492Z"
    }
   },
   "cell_type": "code",
   "source": [
    "plt.plot(train_acc, label='train accuracy')\n",
    "plt.plot(test_acc, label='test accuracy')\n",
    "plt.xlabel('Epoch')\n",
    "plt.ylabel('Accuracy')\n",
    "plt.legend(loc='lower right')\n",
    "plt.show();\n",
    "\n",
    "print(\"\\nOn train - best accuracy: {:.2f}, final accuracy: {:.2f}\".format(best_train_acc, train_acc[-1]))\n",
    "print(\"On test - best accuracy: {:.2f}, final accuracy: {:.2f}\".format(best_test_acc, test_acc[-1]))"
   ],
   "outputs": [
    {
     "data": {
      "text/plain": [
       "<Figure size 640x480 with 1 Axes>"
      ],
      "image/png": "[encoded data removed]"
     },
     "metadata": {},
     "output_type": "display_data"
    },
    {
     "name": "stdout",
     "output_type": "stream",
     "text": [
      "\n",
      "On train - best accuracy: 0.87, final accuracy: 0.87\n",
      "On test - best accuracy: 0.87, final accuracy: 0.87\n"
     ]
    }
   ],
   "execution_count": 8
  },
  {
   "metadata": {},
   "cell_type": "code",
   "outputs": [],
   "execution_count": null,
   "source": ""
  }
 ],
 "metadata": {
  "kernelspec": {
   "display_name": "Python 3",
   "language": "python",
   "name": "python3"
  },
  "language_info": {
   "codemirror_mode": {
    "name": "ipython",
    "version": 3
   },
   "file_extension": ".py",
   "mimetype": "text/x-python",
   "name": "python",
   "nbconvert_exporter": "python",
   "pygments_lexer": "ipython3",
   "version": "3.10.11"
  },
  "colab": {
   "provenance": []
  }
 },
 "nbformat": 4,
 "nbformat_minor": 0
}
