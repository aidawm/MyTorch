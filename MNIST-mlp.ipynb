{
 "cells": [
  {
   "cell_type": "markdown",
   "metadata": {
    "id": "eRrGGz5E_KYu"
   },
   "source": [
    "### Import Libraries"
   ]
  },
  {
   "cell_type": "code",
   "metadata": {
    "executionInfo": {
     "elapsed": 6,
     "status": "ok",
     "timestamp": 1715536215612,
     "user": {
      "displayName": "Alireza Jabbari",
      "userId": "09914447981026378299"
     },
     "user_tz": -210
    },
    "id": "mWwWMfmi_KYw",
    "ExecuteTime": {
     "end_time": "2024-05-16T11:03:49.251576Z",
     "start_time": "2024-05-16T11:03:49.248501Z"
    }
   },
   "source": [
    "import matplotlib.pyplot as plt\n",
    "\n",
    "from mytorch import Tensor, Model\n",
    "from mytorch import activation as active_func\n",
    "from mytorch import layer as nn\n",
    "from mytorch import loss as loss_func\n",
    "from mytorch import optimizer as optim\n",
    "from mytorch.util import DataLoader"
   ],
   "outputs": [],
   "execution_count": 19
  },
  {
   "cell_type": "markdown",
   "metadata": {
    "id": "UmJvaij1_KYy"
   },
   "source": [
    "### Load MNIST"
   ]
  },
  {
   "cell_type": "code",
   "metadata": {
    "colab": {
     "base_uri": "https://localhost:8080/"
    },
    "executionInfo": {
     "elapsed": 40945,
     "status": "ok",
     "timestamp": 1715542905792,
     "user": {
      "displayName": "Alireza Jabbari",
      "userId": "09914447981026378299"
     },
     "user_tz": -210
    },
    "id": "0YCd68mJ_KYy",
    "outputId": "6bf44d0f-303f-47ab-bf33-86350d0815f8",
    "ExecuteTime": {
     "end_time": "2024-05-16T11:03:53.873728Z",
     "start_time": "2024-05-16T11:03:49.601952Z"
    }
   },
   "source": [
    "\"\"\"\n",
    "load data set with given data loader.\n",
    "you have 10000 train data, 1000 for each number, remember to shuffle training data.\n",
    "you have 1000 test data, 100 for each number.\n",
    "\n",
    "loaded data is a list of (img, label)\n",
    "type of img is Tensor.\n",
    "\n",
    "TODO: you have to get this list and create batches for training.\n",
    "you can also apply this changes later in the Training part for convenience.\n",
    "\"\"\"\n",
    "data_loader = DataLoader(train_addr='MNIST/train', test_addr='MNIST/test')\n",
    "data_loader.load()\n",
    "\"you can see how data is loaded\"\n",
    "print(data_loader.getTrain()[0][0].shape)\n",
    "print(data_loader.getTrain()[0][1].shape)"
   ],
   "outputs": [
    {
     "name": "stdout",
     "output_type": "stream",
     "text": [
      "loading train...\n",
      "loading test...\n",
      "processing...\n",
      "(500, 28, 28)\n",
      "(500,)\n"
     ]
    }
   ],
   "execution_count": 20
  },
  {
   "cell_type": "markdown",
   "metadata": {
    "id": "yMVoVBL-_KYy"
   },
   "source": [
    "### Define and Create your Model"
   ]
  },
  {
   "cell_type": "code",
   "metadata": {
    "colab": {
     "base_uri": "https://localhost:8080/"
    },
    "executionInfo": {
     "elapsed": 442,
     "status": "ok",
     "timestamp": 1715544064638,
     "user": {
      "displayName": "Alireza Jabbari",
      "userId": "09914447981026378299"
     },
     "user_tz": -210
    },
    "id": "aFddTR4b_KYy",
    "outputId": "1a4a695e-4a40-4109-9aa0-3fd2c792f9d5",
    "ExecuteTime": {
     "end_time": "2024-05-16T11:03:53.880397Z",
     "start_time": "2024-05-16T11:03:53.875464Z"
    }
   },
   "source": [
    "class MyModel(Model):\n",
    "    def __init__(self):\n",
    "        self.fc1 = nn.linear.Linear(784, 128, need_bias=False)\n",
    "        self.fc2 = nn.linear.Linear(128, 64, need_bias=False)\n",
    "        self.fc3 = nn.linear.Linear(64, 10, need_bias=False)\n",
    "\n",
    "    def forward(self, x: Tensor) -> Tensor:\n",
    "        x = active_func.relu(self.fc1(x))\n",
    "        x = active_func.relu(self.fc2(x))\n",
    "        x = active_func.softmax(self.fc3(x))\n",
    "\n",
    "        return x\n",
    "\n",
    "\n",
    "model = MyModel()"
   ],
   "outputs": [],
   "execution_count": 21
  },
  {
   "cell_type": "markdown",
   "metadata": {
    "id": "90eT2Ii4_KYy"
   },
   "source": [
    "### Choose a Loss Function"
   ]
  },
  {
   "cell_type": "code",
   "metadata": {
    "executionInfo": {
     "elapsed": 27,
     "status": "ok",
     "timestamp": 1715536287933,
     "user": {
      "displayName": "Alireza Jabbari",
      "userId": "09914447981026378299"
     },
     "user_tz": -210
    },
    "id": "iAXnzypc_KYy",
    "ExecuteTime": {
     "end_time": "2024-05-16T11:03:53.884002Z",
     "start_time": "2024-05-16T11:03:53.881664Z"
    }
   },
   "source": [
    "\"TODO: choose a proper loss function\"\n",
    "criterion = loss_func.CategoricalCrossEntropy"
   ],
   "outputs": [],
   "execution_count": 22
  },
  {
   "cell_type": "markdown",
   "metadata": {
    "id": "rpazeLzT_KYz"
   },
   "source": [
    "### Choose an Optimizer"
   ]
  },
  {
   "cell_type": "code",
   "metadata": {
    "executionInfo": {
     "elapsed": 331,
     "status": "ok",
     "timestamp": 1715544070504,
     "user": {
      "displayName": "Alireza Jabbari",
      "userId": "09914447981026378299"
     },
     "user_tz": -210
    },
    "id": "jeZNabBu_KYz",
    "ExecuteTime": {
     "end_time": "2024-05-16T11:03:53.890552Z",
     "start_time": "2024-05-16T11:03:53.887054Z"
    }
   },
   "source": [
    "\"TODO: choose a proper optimizer\"\n",
    "optimizer = optim.SGD(model.parameters(), 0.001)"
   ],
   "outputs": [],
   "execution_count": 23
  },
  {
   "cell_type": "code",
   "metadata": {
    "ExecuteTime": {
     "end_time": "2024-05-16T11:03:53.894723Z",
     "start_time": "2024-05-16T11:03:53.891927Z"
    }
   },
   "source": [
    "def one_hot_encode_array(array):\n",
    "    # Index this with the input array to get the one-hot encoded array\n",
    "    one_hot = np.zeros((array.shape[0], 10))\n",
    "    one_hot[np.arange(array.shape[0]), array.data] = 1\n",
    "    return Tensor(one_hot)"
   ],
   "outputs": [],
   "execution_count": 24
  },
  {
   "cell_type": "markdown",
   "metadata": {
    "id": "rFqa3K6Y_KYz"
   },
   "source": [
    "### Training Model"
   ]
  },
  {
   "metadata": {
    "ExecuteTime": {
     "end_time": "2024-05-16T11:04:21.278806Z",
     "start_time": "2024-05-16T11:03:53.895957Z"
    }
   },
   "cell_type": "code",
   "source": [
    "\"TODO: define number of epoch and train batches of data on your model. also test each epoch.\"\n",
    "import numpy as np\n",
    "\n",
    "EPOCH = 20\n",
    "\n",
    "train_acc = []\n",
    "test_acc = []\n",
    "best_train_acc = 0.0\n",
    "best_test_acc = 0.0\n",
    "\n",
    "for i in range(EPOCH):\n",
    "    print(\"EPOCH {}/{}\".format(i + 1, EPOCH))\n",
    "\n",
    "    trn_corr = 0\n",
    "    tst_corr = 0\n",
    "\n",
    "    \"TODO: train over your defined batches and save train accuracy for each epoch.\"\n",
    "    for j, _data in enumerate(data_loader.getTrain()):\n",
    "        x_train, y_train = _data\n",
    "        d = Tensor(x_train.data.reshape((-1, 28 * 28)) / 255.0)\n",
    "        y = one_hot_encode_array(y_train)\n",
    "        preds = model.forward(d)\n",
    "        optimizer.zero_grad()\n",
    "        loss = criterion(preds, y)\n",
    "        loss.backward()\n",
    "        optimizer.step()\n",
    "        predicted = np.argmax(preds.data, 1)\n",
    "        trn_corr += np.sum(predicted == y_train.data)\n",
    "\n",
    "    acc = (trn_corr / 10000)\n",
    "    train_acc.append(acc)\n",
    "    \"TODO: test your model after each training and save test accuracy for each epoch.\"\n",
    "\n",
    "    for x_test, y_test in data_loader.getTest():\n",
    "        d = Tensor(x_test.data.reshape((-1, 28 * 28)) / 255.)\n",
    "        y = one_hot_encode_array(y_test)\n",
    "        preds = model(d)\n",
    "        predicted = np.argmax(preds.data, 1)\n",
    "        tst_corr += np.sum(predicted == y_test.data)\n",
    "\n",
    "    acc = (tst_corr / 1000)\n",
    "    test_acc.append(acc)\n",
    "\n",
    "best_train_acc = max(train_acc)\n",
    "best_test_acc = max(test_acc)"
   ],
   "outputs": [],
   "execution_count": 25
  },
  {
   "metadata": {},
   "cell_type": "code",
   "outputs": [],
   "execution_count": null,
   "source": [
    "import numpy as np\n",
    "from mytorch import Tensor\n",
    "from PIL import Image\n",
    "from random import shuffle\n",
    "from typing import List, Tuple\n",
    "\n",
    "# data count\n",
    "TRAIN = 10000\n",
    "TEST = 1000\n",
    "\n",
    "\n",
    "class DataLoader:\n",
    "\n",
    "    def __init__(self, train_addr: str, test_addr: str) -> None:\n",
    "        # train\n",
    "        self.train_addr = train_addr\n",
    "        self.train = []  # iterate this field for train\n",
    "        # test\n",
    "        self.test_addr = test_addr\n",
    "        self.test = []  # iterate this field for test\n",
    "\n",
    "    def load(self, train_batch_size: int = 500, test_batch_size: int = 100):\n",
    "        print(\"loading train...\")\n",
    "        train_data = []\n",
    "        for i in range(TRAIN):\n",
    "            label = (int)(i / 1000)\n",
    "            index = (int)((i % 1000) + 1)\n",
    "            addr = self.train_addr + '/' + label.__str__() + ' (' + index.__str__() + ')' + '.jpg'\n",
    "            img = Image.open(addr, mode='r')\n",
    "            if i % 1000 == 0:\n",
    "                print('loaded')\n",
    "            train_data.append((np.array(img), label))\n",
    "\n",
    "        print(\"loading test...\")\n",
    "        test_data = []\n",
    "        for i in range(TEST):\n",
    "            label = (int)(i / 100)\n",
    "            index = (int)((i % 100) + 1)\n",
    "            addr = self.test_addr + '/' + label.__str__() + ' (' + index.__str__() + ')' + '.jpg'\n",
    "            img = Image.open(addr, mode='r')\n",
    "            test_data.append((np.array(img), label))\n",
    "\n",
    "        print('processing...')\n",
    "        shuffle(train_data)\n",
    "        shuffle(test_data)\n",
    "\n",
    "        for i in range((int)(TRAIN / train_batch_size)):\n",
    "            batch_data = []\n",
    "            batch_label = []\n",
    "            for j in range(train_batch_size):\n",
    "                index = i * train_batch_size + j\n",
    "                batch_data.append(train_data[index][0])\n",
    "                batch_label.append(train_data[index][1])\n",
    "            self.train.append((Tensor(np.array(batch_data)), Tensor(np.array(batch_label))))\n",
    "\n",
    "        for i in range((int)(TEST / test_batch_size)):\n",
    "            batch_data = []\n",
    "            batch_label = []\n",
    "            for j in range(test_batch_size):\n",
    "                index = i * test_batch_size + j\n",
    "                batch_data.append(test_data[index][0])\n",
    "                batch_label.append(test_data[index][1])\n",
    "            self.test.append((Tensor(np.array(batch_data)), Tensor(np.array(batch_label))))\n",
    "\n",
    "    def getTrain(self) -> List[Tuple[Tensor, Tensor]]:\n",
    "        return self.train\n",
    "\n",
    "    def getTest(self) -> List[Tuple[Tensor, Tensor]]:\n",
    "        return self.test\n"
   ]
  },
  {
   "cell_type": "markdown",
   "metadata": {
    "id": "ZMQv4M66_KYz"
   },
   "source": [
    "### Evaluate Model Performance"
   ]
  },
  {
   "cell_type": "code",
   "metadata": {
    "colab": {
     "base_uri": "https://localhost:8080/",
     "height": 501
    },
    "executionInfo": {
     "elapsed": 1047,
     "status": "ok",
     "timestamp": 1715544233882,
     "user": {
      "displayName": "Alireza Jabbari",
      "userId": "09914447981026378299"
     },
     "user_tz": -210
    },
    "id": "D9qGYJDa_KY0",
    "outputId": "36c918ae-e96b-4d5a-f93a-a2b8184c6438",
    "ExecuteTime": {
     "end_time": "2024-05-16T11:04:21.499921Z",
     "start_time": "2024-05-16T11:04:21.280559Z"
    }
   },
   "source": [
    "plt.plot(train_acc, label='train accuracy')\n",
    "plt.plot(test_acc, label='test accuracy')\n",
    "plt.xlabel('Epoch')\n",
    "plt.ylabel('Accuracy')\n",
    "plt.legend(loc='lower right')\n",
    "plt.show();\n",
    "\n",
    "print(\"\\nOn train - best accuracy: {:.2f}, final accuracy: {:.2f}\".format(best_train_acc, train_acc[-1]))\n",
    "print(\"On test - best accuracy: {:.2f}, final accuracy: {:.2f}\".format(best_test_acc, test_acc[-1]))"
   ],
   "outputs": [
    {
     "data": {
      "text/plain": [
       "<Figure size 640x480 with 1 Axes>"
      ],
      "image/png": "[encoded data removed]"
     },
     "metadata": {},
     "output_type": "display_data"
    },
    {
     "name": "stdout",
     "output_type": "stream",
     "text": [
      "\n",
      "On train - best accuracy: 0.94, final accuracy: 0.94\n",
      "On test - best accuracy: 0.92, final accuracy: 0.92\n"
     ]
    }
   ],
   "execution_count": 26
  },
  {
   "cell_type": "code",
   "metadata": {
    "id": "l5qQ0YN3ZCWS"
   },
   "source": [],
   "outputs": [],
   "execution_count": null
  }
 ],
 "metadata": {
  "colab": {
   "provenance": []
  },
  "kernelspec": {
   "display_name": "Python 3 (ipykernel)",
   "language": "python",
   "name": "python3"
  },
  "language_info": {
   "codemirror_mode": {
    "name": "ipython",
    "version": 3
   },
   "file_extension": ".py",
   "mimetype": "text/x-python",
   "name": "python",
   "nbconvert_exporter": "python",
   "pygments_lexer": "ipython3",
   "version": "3.11.5"
  }
 },
 "nbformat": 4,
 "nbformat_minor": 1
}
